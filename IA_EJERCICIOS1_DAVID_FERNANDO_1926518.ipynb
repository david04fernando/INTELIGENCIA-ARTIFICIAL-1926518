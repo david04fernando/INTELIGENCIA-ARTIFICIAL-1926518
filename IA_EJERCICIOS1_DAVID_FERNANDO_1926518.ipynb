{
  "nbformat": 4,
  "nbformat_minor": 0,
  "metadata": {
    "colab": {
      "provenance": [],
      "authorship_tag": "ABX9TyPnE8EmKETHJWsa7GDjpupt",
      "include_colab_link": true
    },
    "kernelspec": {
      "name": "python3",
      "display_name": "Python 3"
    },
    "language_info": {
      "name": "python"
    }
  },
  "cells": [
    {
      "cell_type": "markdown",
      "metadata": {
        "id": "view-in-github",
        "colab_type": "text"
      },
      "source": [
        "<a href=\"https://colab.research.google.com/github/david04fernando/INTELIGENCIA-ARTIFICIAL-1926518/blob/main/IA_EJERCICIOS1_DAVID_FERNANDO_1926518.ipynb\" target=\"_parent\"><img src=\"https://colab.research.google.com/assets/colab-badge.svg\" alt=\"Open In Colab\"/></a>"
      ]
    },
    {
      "cell_type": "code",
      "execution_count": null,
      "metadata": {
        "colab": {
          "base_uri": "https://localhost:8080/"
        },
        "id": "LB3r7-Q-CA2i",
        "outputId": "da87ca15-59c9-47ba-b478-1ddf3e9bdb0f"
      },
      "outputs": [
        {
          "output_type": "stream",
          "name": "stdout",
          "text": [
            "David Fernando Sustaita Zuñiga\n",
            "Inteligencia artificial\n",
            "Matrícula: 1926518\n",
            "Hora: N1\n"
          ]
        }
      ],
      "source": [
        "print(\"David Fernando Sustaita Zuñiga\")\n",
        "print(\"Inteligencia artificial\")\n",
        "print(\"Matrícula: 1926518\")\n",
        "print(\"Hora: N1\")"
      ]
    },
    {
      "cell_type": "code",
      "source": [
        "P = input(\"¿Cuál es tu nombre?: \")\n",
        "if P != \"Juan\" and P != \"Pedro\" and P != \"Ana\" and P != \"David\":\n",
        "  print(\"Hola\", P, \"Muy buenos días\")"
      ],
      "metadata": {
        "colab": {
          "base_uri": "https://localhost:8080/"
        },
        "id": "JW5NjAPOCr8f",
        "outputId": "adf61564-c7de-438b-d65b-141122ba9020"
      },
      "execution_count": null,
      "outputs": [
        {
          "name": "stdout",
          "output_type": "stream",
          "text": [
            "¿Cuál es tu nombre?: David\n"
          ]
        }
      ]
    },
    {
      "cell_type": "code",
      "source": [
        "Num=[0,1,2,3,4,5,6,7,8,9,10,11,12,13,14,15,16,17,18,19,20,21,22,23,24,25]\n",
        "def cambio (lista):\n",
        "  lista.reverse()\n",
        "  for x in range(len(lista)):\n",
        "    print(lista[x])\n",
        "  return lista[0]\n",
        "fin = cambio(Num) \n",
        "print(fin)"
      ],
      "metadata": {
        "colab": {
          "base_uri": "https://localhost:8080/"
        },
        "id": "FSZ9yWxwC2fZ",
        "outputId": "c71ebb29-780a-4901-b497-b94b543ec740"
      },
      "execution_count": null,
      "outputs": [
        {
          "output_type": "stream",
          "name": "stdout",
          "text": [
            "25\n",
            "24\n",
            "23\n",
            "22\n",
            "21\n",
            "20\n",
            "19\n",
            "18\n",
            "17\n",
            "16\n",
            "15\n",
            "14\n",
            "13\n",
            "12\n",
            "11\n",
            "10\n",
            "9\n",
            "8\n",
            "7\n",
            "6\n",
            "5\n",
            "4\n",
            "3\n",
            "2\n",
            "1\n",
            "0\n",
            "25\n"
          ]
        }
      ]
    },
    {
      "cell_type": "code",
      "source": [
        "def prgram():\n",
        "  print(\"********************\")\n",
        "  for x in [\"Hey\", \"Hola\", \"a\", \"Todos\", \"la\", \"materia\", \"de\", \"Inteligencia\", \"Artificial\", \"es\" ,\"la\" ,\"mejor\"]:\n",
        "     print(\"* \", x, \" *\")\n",
        "  print(\"********************\")\n",
        "prgram()"
      ],
      "metadata": {
        "colab": {
          "base_uri": "https://localhost:8080/"
        },
        "id": "3YOdZ6PYDBCR",
        "outputId": "a177bba6-7a29-4536-b473-819bb9ac2517"
      },
      "execution_count": null,
      "outputs": [
        {
          "output_type": "stream",
          "name": "stdout",
          "text": [
            "********************\n",
            "*  Hey  *\n",
            "*  Hola  *\n",
            "*  a  *\n",
            "*  Todos  *\n",
            "*  la  *\n",
            "*  materia  *\n",
            "*  de  *\n",
            "*  Inteligencia  *\n",
            "*  Artificial  *\n",
            "*  es  *\n",
            "*  la  *\n",
            "*  mejor  *\n",
            "********************\n"
          ]
        }
      ]
    }
  ]
}