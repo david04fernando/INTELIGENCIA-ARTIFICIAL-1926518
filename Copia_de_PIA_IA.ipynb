{
  "nbformat": 4,
  "nbformat_minor": 0,
  "metadata": {
    "colab": {
      "provenance": [],
      "authorship_tag": "ABX9TyOX4vP6cGzRKvdwdJon5dBq",
      "include_colab_link": true
    },
    "kernelspec": {
      "name": "python3",
      "display_name": "Python 3"
    },
    "language_info": {
      "name": "python"
    }
  },
  "cells": [
    {
      "cell_type": "markdown",
      "metadata": {
        "id": "view-in-github",
        "colab_type": "text"
      },
      "source": [
        "<a href=\"https://colab.research.google.com/github/david04fernando/INTELIGENCIA-ARTIFICIAL-1926518/blob/main/Copia_de_PIA_IA.ipynb\" target=\"_parent\"><img src=\"https://colab.research.google.com/assets/colab-badge.svg\" alt=\"Open In Colab\"/></a>"
      ]
    },
    {
      "cell_type": "markdown",
      "source": [
        "PIA DE INTELIGENCIA ARTIFICIAL \n"
      ],
      "metadata": {
        "id": "fTQ-GLgxBznO"
      }
    }
  ]
}